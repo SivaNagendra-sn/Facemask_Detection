{
 "cells": [
  {
   "cell_type": "markdown",
   "metadata": {},
   "source": [
    "## Test the model with videos and Images"
   ]
  },
  {
   "cell_type": "code",
   "execution_count": 1,
   "metadata": {},
   "outputs": [
    {
     "data": {
      "text/plain": [
       "'2.1.2'"
      ]
     },
     "execution_count": 1,
     "metadata": {},
     "output_type": "execute_result"
    }
   ],
   "source": [
    "import tensorflow as tf\n",
    "tf.__version__"
   ]
  },
  {
   "cell_type": "code",
   "execution_count": 2,
   "metadata": {},
   "outputs": [],
   "source": [
    "import cv2\n",
    "from tensorflow.keras.preprocessing.image import img_to_array\n",
    "from tensorflow.keras.preprocessing.image import load_img\n",
    "from tensorflow.keras.applications.mobilenet_v2 import preprocess_input"
   ]
  },
  {
   "cell_type": "code",
   "execution_count": 3,
   "metadata": {},
   "outputs": [],
   "source": [
    "import numpy as np\n",
    "from tensorflow.keras.models import load_model"
   ]
  },
  {
   "cell_type": "code",
   "execution_count": 4,
   "metadata": {},
   "outputs": [
    {
     "name": "stdout",
     "output_type": "stream",
     "text": [
      "WARNING:tensorflow:Error in loading the saved optimizer state. As a result, your model is starting with a freshly initialized optimizer.\n"
     ]
    }
   ],
   "source": [
    "model_path = r'./face_mask_model.h5'\n",
    "mask_model = load_model(model_path)"
   ]
  },
  {
   "cell_type": "code",
   "execution_count": 5,
   "metadata": {},
   "outputs": [],
   "source": [
    "face_cascade = cv2.CascadeClassifier()"
   ]
  },
  {
   "cell_type": "code",
   "execution_count": 6,
   "metadata": {},
   "outputs": [],
   "source": [
    "if not face_cascade.load(cv2.samples.findFile(r'./haarcascade_frontalface_default.xml')):\n",
    "    print(\"Error loading in file\")\n",
    "    exit(0)"
   ]
  },
  {
   "cell_type": "code",
   "execution_count": 7,
   "metadata": {},
   "outputs": [],
   "source": [
    "labels_dict = {0: 'with mask', 1:'Without mask'}\n",
    "color_dict = {0:(0,255,0), 1:(0,0,255)}"
   ]
  },
  {
   "cell_type": "code",
   "execution_count": 22,
   "metadata": {},
   "outputs": [],
   "source": [
    "# Cpturing the webcam\n",
    "source = cv2.VideoCapture(0)"
   ]
  },
  {
   "cell_type": "code",
   "execution_count": 23,
   "metadata": {},
   "outputs": [],
   "source": [
    "while(True):\n",
    "\n",
    "    ret,img=source.read()\n",
    "    gray_img=cv2.cvtColor(img,cv2.COLOR_BGR2GRAY)\n",
    "    face_dim=face_cascade.detectMultiScale(gray_img, 1.1, 5)  \n",
    "\n",
    "    for (x,y,w,h) in face_dim:\n",
    "    \n",
    "        face_img=gray_img[y:y+w,x:x+w]\n",
    "        resized=cv2.resize(face_img,(128,128))\n",
    "        resized = resized/255.0\n",
    "        reshaped = np.reshape(resized, (1, 128, 128, 1))\n",
    "        result=mask_model.predict(reshaped)\n",
    "        confidence = str(np.around(100 * np.max(result[0]), 2))\n",
    "        label=np.argmax(result,axis=1)[0]\n",
    "        cv2.rectangle(img,(x,y),(x+w,y+h),color_dict[label],2)\n",
    "        cv2.rectangle(img,(x,y-40),(x+w,y),color_dict[label],-1)\n",
    "        cv2.putText(img, labels_dict[label]+'-'+confidence, (x, y-10),cv2.FONT_HERSHEY_SIMPLEX,0.8,(255,255,255),2)\n",
    "        \n",
    "        \n",
    "    cv2.imshow('LIVE',img)\n",
    "    \n",
    "    if cv2.waitKey(1) & 0XFF == ord('p'):  # Press 'p' key for exit\n",
    "        break\n",
    "        \n",
    "cv2.destroyAllWindows()\n",
    "source.release()"
   ]
  },
  {
   "cell_type": "markdown",
   "metadata": {},
   "source": [
    "# Test with Images"
   ]
  },
  {
   "cell_type": "code",
   "execution_count": 41,
   "metadata": {},
   "outputs": [],
   "source": [
    "image_path = 'Path of your image'\n",
    "image = cv2.imread(image_path)"
   ]
  },
  {
   "cell_type": "code",
   "execution_count": 42,
   "metadata": {},
   "outputs": [
    {
     "data": {
      "text/plain": [
       "(1235, 916, 3)"
      ]
     },
     "execution_count": 42,
     "metadata": {},
     "output_type": "execute_result"
    }
   ],
   "source": [
    "image.shape"
   ]
  },
  {
   "cell_type": "code",
   "execution_count": 43,
   "metadata": {},
   "outputs": [],
   "source": [
    "face = face_cascade.detectMultiScale(image, 1.3, 5) \n",
    "for (x, y, w, h) in face:\n",
    "    face_img=image[y:y+w,x:x+w]\n",
    "    face_img=cv2.cvtColor(face_img,cv2.COLOR_BGR2GRAY)\n",
    "    resized=cv2.resize(face_img,(128,128))\n",
    "    reshaped = np.reshape(resized, (1, 128, 128, 1))\n",
    "    result=mask_model.predict(normalized)\n",
    "    confidence = str(np.around(100 * np.max(result[0]), 2))\n",
    "    label=np.argmax(result,axis=1)[0]\n",
    "    cv2.rectangle(image,(x,y),(x+w,y+h),color_dict[label],2)\n",
    "    cv2.rectangle(image,(x,y-40),(x+w,y),color_dict[label],-1)\n",
    "    cv2.putText(image, labels_dict[label]+'-'+confidence, (x, y-10),cv2.FONT_HERSHEY_SIMPLEX,0.8,(255,255,255),2)   \n",
    "        \n",
    "cv2.imshow('Image',image)\n",
    "    \n",
    "cv2.waitKey(5000)\n",
    "        \n",
    "cv2.destroyAllWindows()"
   ]
  },
  {
   "cell_type": "code",
   "execution_count": null,
   "metadata": {},
   "outputs": [],
   "source": []
  }
 ],
 "metadata": {
  "kernelspec": {
   "display_name": "Python 3",
   "language": "python",
   "name": "python3"
  },
  "language_info": {
   "codemirror_mode": {
    "name": "ipython",
    "version": 3
   },
   "file_extension": ".py",
   "mimetype": "text/x-python",
   "name": "python",
   "nbconvert_exporter": "python",
   "pygments_lexer": "ipython3",
   "version": "3.7.0"
  }
 },
 "nbformat": 4,
 "nbformat_minor": 4
}
