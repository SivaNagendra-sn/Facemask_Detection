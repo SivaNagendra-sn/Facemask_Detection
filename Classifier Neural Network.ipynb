{
 "cells": [
  {
   "cell_type": "markdown",
   "metadata": {},
   "source": [
    "## Image Classification with 'Face Mask' data set"
   ]
  },
  {
   "cell_type": "code",
   "execution_count": 2,
   "metadata": {},
   "outputs": [],
   "source": [
    "import tensorflow as tf"
   ]
  },
  {
   "cell_type": "code",
   "execution_count": 3,
   "metadata": {},
   "outputs": [
    {
     "data": {
      "text/plain": [
       "'2.1.2'"
      ]
     },
     "execution_count": 3,
     "metadata": {},
     "output_type": "execute_result"
    }
   ],
   "source": [
    "tf.__version__"
   ]
  },
  {
   "cell_type": "code",
   "execution_count": 4,
   "metadata": {},
   "outputs": [
    {
     "name": "stdout",
     "output_type": "stream",
     "text": [
      "True\n"
     ]
    }
   ],
   "source": [
    "print(tf.test.is_built_with_gpu_support())"
   ]
  },
  {
   "cell_type": "code",
   "execution_count": 5,
   "metadata": {},
   "outputs": [],
   "source": [
    "# Importing the libraries\n",
    "from tensorflow.keras.applications import MobileNetV2\n",
    "from tensorflow.keras.applications.mobilenet_v2 import preprocess_input\n",
    "from tensorflow.keras.layers import Dropout, Dense, BatchNormalization, Input, Flatten, AveragePooling2D\n",
    "from tensorflow.keras.models import Model\n",
    "from tensorflow.keras.optimizers import Adam\n",
    "from tensorflow.keras import Sequential\n",
    "from tensorflow.keras.preprocessing.image import ImageDataGenerator\n",
    "from tensorflow.keras.preprocessing.image import img_to_array\n",
    "from tensorflow.keras.preprocessing.image import load_img\n",
    "from tensorflow.keras.models import load_model\n",
    "from tensorflow.keras.utils import to_categorical\n",
    "from sklearn.preprocessing import LabelBinarizer\n",
    "from sklearn.model_selection import train_test_split\n",
    "from sklearn.metrics import classification_report"
   ]
  },
  {
   "cell_type": "code",
   "execution_count": 6,
   "metadata": {},
   "outputs": [],
   "source": [
    "import os\n",
    "from glob import glob\n",
    "import  PIL\n",
    "from PIL import Image\n",
    "from imutils import paths\n",
    "import matplotlib.pyplot as plt\n",
    "%matplotlib inline\n",
    "import numpy as np\n",
    "import cv2"
   ]
  },
  {
   "cell_type": "markdown",
   "metadata": {},
   "source": [
    "# Load & Preprocess the data"
   ]
  },
  {
   "cell_type": "markdown",
   "metadata": {},
   "source": [
    "Steps in Data Preprocessing\n",
    "1. Load the data.\n",
    "2. Convert the images to gray scaled with size of (128, 128)\n",
    "3. Normalized the dataset.\n",
    "4. Reshape the dataset to 4D whcih is acceptible by CNN\n",
    "5. Split the data into Training and Validatin sets\n",
    "6. Augmentation on Training data"
   ]
  },
  {
   "cell_type": "code",
   "execution_count": null,
   "metadata": {},
   "outputs": [],
   "source": [
    "img_size = 128\n",
    "batch_size = 32"
   ]
  },
  {
   "cell_type": "code",
   "execution_count": null,
   "metadata": {},
   "outputs": [],
   "source": [
    "data_path = r'D:\\DLCVNLP\\Projects\\Mask_detection'"
   ]
  },
  {
   "cell_type": "code",
   "execution_count": 12,
   "metadata": {},
   "outputs": [
    {
     "name": "stderr",
     "output_type": "stream",
     "text": [
      "d:\\downloads\\anaconda3\\envs\\tracker-gpu\\lib\\site-packages\\PIL\\Image.py:963: UserWarning: Palette images with Transparency expressed in bytes should be converted to RGBA images\n",
      "  \"Palette images with Transparency expressed in bytes should be \"\n"
     ]
    },
    {
     "name": "stdout",
     "output_type": "stream",
     "text": [
      "Wall time: 27.1 s\n"
     ]
    }
   ],
   "source": [
    "%%time\n",
    "data = []\n",
    "labels = []\n",
    "\n",
    "for folder in folders:\n",
    "    image_paths = list(paths.list_images(folder))\n",
    "    for images in image_paths:\n",
    "        image = load_img(images, color_mode='grayscale', target_size=(img_size, img_size))\n",
    "        label = images.split(os.path.sep)[-2]\n",
    "        labels.append(label)\n",
    "        data.append((np.array(image))/255.0)   "
   ]
  },
  {
   "cell_type": "code",
   "execution_count": 13,
   "metadata": {},
   "outputs": [
    {
     "name": "stdout",
     "output_type": "stream",
     "text": [
      "<class 'list'> <class 'list'>\n"
     ]
    }
   ],
   "source": [
    "print(type(data), type(labels))"
   ]
  },
  {
   "cell_type": "code",
   "execution_count": 14,
   "metadata": {},
   "outputs": [
    {
     "name": "stdout",
     "output_type": "stream",
     "text": [
      "Wall time: 138 ms\n"
     ]
    }
   ],
   "source": [
    "%%time\n",
    "data = np.array(data, dtype='float32')\n",
    "labels = np.array(labels)"
   ]
  },
  {
   "cell_type": "code",
   "execution_count": 38,
   "metadata": {},
   "outputs": [
    {
     "data": {
      "text/plain": [
       "(3833, 128, 128)"
      ]
     },
     "execution_count": 38,
     "metadata": {},
     "output_type": "execute_result"
    }
   ],
   "source": [
    "data.shape"
   ]
  },
  {
   "cell_type": "code",
   "execution_count": 15,
   "metadata": {},
   "outputs": [],
   "source": [
    "data_reshape = np.reshape(data, (data.shape[0], img_size, img_size, 1))"
   ]
  },
  {
   "cell_type": "code",
   "execution_count": 16,
   "metadata": {},
   "outputs": [],
   "source": [
    "# Labels data to Categorical\n",
    "lb =LabelBinarizer()\n",
    "labels = lb.fit_transform(labels)\n",
    "labels = to_categorical(labels)"
   ]
  },
  {
   "cell_type": "code",
   "execution_count": 17,
   "metadata": {},
   "outputs": [
    {
     "data": {
      "text/plain": [
       "(3833, 2)"
      ]
     },
     "execution_count": 17,
     "metadata": {},
     "output_type": "execute_result"
    }
   ],
   "source": [
    "labels.shape"
   ]
  },
  {
   "cell_type": "code",
   "execution_count": 18,
   "metadata": {},
   "outputs": [
    {
     "name": "stdout",
     "output_type": "stream",
     "text": [
      "3833 3833\n"
     ]
    }
   ],
   "source": [
    "print(len(data), len(labels))"
   ]
  },
  {
   "cell_type": "code",
   "execution_count": 19,
   "metadata": {},
   "outputs": [],
   "source": [
    "# split the data \n",
    "train_X, test_X, train_y, test_y = train_test_split(data_reshape, labels, test_size=0.2, stratify=labels, random_state=42)"
   ]
  },
  {
   "cell_type": "code",
   "execution_count": 20,
   "metadata": {},
   "outputs": [
    {
     "name": "stdout",
     "output_type": "stream",
     "text": [
      "(3066, 128, 128, 1) (3066, 2) (767, 128, 128, 1) (767, 2)\n"
     ]
    }
   ],
   "source": [
    "print(train_X.shape, train_y.shape, test_X.shape, test_y.shape)"
   ]
  },
  {
   "cell_type": "code",
   "execution_count": null,
   "metadata": {},
   "outputs": [],
   "source": [
    "augmentor =ImageDataGenerator(rotation_range=10,zoom_range=0.1,width_shift_range=0.1,height_shift_range=0.2,shear_range=0.15,horizontal_flip=True,vertical_flip=True,fill_mode='nearest')\n"
   ]
  },
  {
   "cell_type": "markdown",
   "metadata": {},
   "source": [
    "## Train with Convolution neural network"
   ]
  },
  {
   "cell_type": "code",
   "execution_count": 18,
   "metadata": {},
   "outputs": [],
   "source": [
    "from tensorflow.keras.layers import Conv2D, Activation, AvgPool2D, MaxPool2D"
   ]
  },
  {
   "cell_type": "code",
   "execution_count": 19,
   "metadata": {},
   "outputs": [],
   "source": [
    "model = Sequential()\n",
    "model.add(Conv2D(32, (3, 3), input_shape = (img_size, img_size, 1)))\n",
    "model.add(Activation(\"relu\"))\n",
    "model.add(MaxPool2D(pool_size=(2, 2)))\n",
    "\n",
    "model.add(Conv2D(64,(3,3)))\n",
    "model.add(Activation(\"relu\"))\n",
    "model.add(Conv2D(250,(3,3)))\n",
    "model.add(Activation(\"relu\"))\n",
    "  \n",
    "model.add(Conv2D(128,(3,3)))\n",
    "model.add(Activation(\"relu\"))\n",
    "model.add(AvgPool2D(2,2))\n",
    "model.add(Conv2D(64,(3,3)))\n",
    "model.add(Activation(\"relu\"))\n",
    "model.add(AvgPool2D(2,2))\n",
    "\n",
    "model.add(Conv2D(256,(2,2)))\n",
    "model.add(Activation(\"relu\"))\n",
    "model.add(MaxPool2D(2,2))\n",
    "    \n",
    "model.add(Flatten())\n",
    "model.add(Dense(32))\n",
    "model.add(Dropout(0.25))\n",
    "model.add(Dense(2))\n",
    "model.add(Activation(\"softmax\"))"
   ]
  },
  {
   "cell_type": "code",
   "execution_count": 20,
   "metadata": {},
   "outputs": [
    {
     "name": "stdout",
     "output_type": "stream",
     "text": [
      "Model: \"sequential_1\"\n",
      "_________________________________________________________________\n",
      "Layer (type)                 Output Shape              Param #   \n",
      "=================================================================\n",
      "conv2d (Conv2D)              (None, 126, 126, 32)      320       \n",
      "_________________________________________________________________\n",
      "activation (Activation)      (None, 126, 126, 32)      0         \n",
      "_________________________________________________________________\n",
      "max_pooling2d (MaxPooling2D) (None, 63, 63, 32)        0         \n",
      "_________________________________________________________________\n",
      "conv2d_1 (Conv2D)            (None, 61, 61, 64)        18496     \n",
      "_________________________________________________________________\n",
      "activation_1 (Activation)    (None, 61, 61, 64)        0         \n",
      "_________________________________________________________________\n",
      "conv2d_2 (Conv2D)            (None, 59, 59, 250)       144250    \n",
      "_________________________________________________________________\n",
      "activation_2 (Activation)    (None, 59, 59, 250)       0         \n",
      "_________________________________________________________________\n",
      "conv2d_3 (Conv2D)            (None, 57, 57, 128)       288128    \n",
      "_________________________________________________________________\n",
      "activation_3 (Activation)    (None, 57, 57, 128)       0         \n",
      "_________________________________________________________________\n",
      "average_pooling2d (AveragePo (None, 28, 28, 128)       0         \n",
      "_________________________________________________________________\n",
      "conv2d_4 (Conv2D)            (None, 26, 26, 64)        73792     \n",
      "_________________________________________________________________\n",
      "activation_4 (Activation)    (None, 26, 26, 64)        0         \n",
      "_________________________________________________________________\n",
      "average_pooling2d_1 (Average (None, 13, 13, 64)        0         \n",
      "_________________________________________________________________\n",
      "conv2d_5 (Conv2D)            (None, 12, 12, 256)       65792     \n",
      "_________________________________________________________________\n",
      "activation_5 (Activation)    (None, 12, 12, 256)       0         \n",
      "_________________________________________________________________\n",
      "max_pooling2d_1 (MaxPooling2 (None, 6, 6, 256)         0         \n",
      "_________________________________________________________________\n",
      "flatten (Flatten)            (None, 9216)              0         \n",
      "_________________________________________________________________\n",
      "dense (Dense)                (None, 32)                294944    \n",
      "_________________________________________________________________\n",
      "dropout (Dropout)            (None, 32)                0         \n",
      "_________________________________________________________________\n",
      "dense_1 (Dense)              (None, 2)                 66        \n",
      "_________________________________________________________________\n",
      "activation_6 (Activation)    (None, 2)                 0         \n",
      "=================================================================\n",
      "Total params: 885,788\n",
      "Trainable params: 885,788\n",
      "Non-trainable params: 0\n",
      "_________________________________________________________________\n"
     ]
    }
   ],
   "source": [
    "model.summary()"
   ]
  },
  {
   "cell_type": "code",
   "execution_count": null,
   "metadata": {},
   "outputs": [],
   "source": [
    "model.compile(optimizer=optim, loss = tf.keras.losses.CategoricalCrossentropy(), metrics=['categorical_accuracy'])"
   ]
  },
  {
   "cell_type": "code",
   "execution_count": 178,
   "metadata": {},
   "outputs": [
    {
     "name": "stdout",
     "output_type": "stream",
     "text": [
      "WARNING:tensorflow:sample_weight modes were coerced from\n",
      "  ...\n",
      "    to  \n",
      "  ['...']\n",
      "Train for 95 steps, validate on 767 samples\n",
      "Epoch 1/40\n",
      "94/95 [============================>.] - ETA: 0s - loss: 0.6848 - categorical_accuracy: 0.5250\n",
      "Epoch 00001: val_loss did not improve from 0.12200\n",
      "95/95 [==============================] - 6s 66ms/step - loss: 0.6841 - categorical_accuracy: 0.5267 - val_loss: 0.5915 - val_categorical_accuracy: 0.6821\n",
      "Epoch 2/40\n",
      "94/95 [============================>.] - ETA: 0s - loss: 0.6287 - categorical_accuracy: 0.6502\n",
      "Epoch 00002: val_loss did not improve from 0.12200\n",
      "95/95 [==============================] - 6s 61ms/step - loss: 0.6288 - categorical_accuracy: 0.6506 - val_loss: 0.5550 - val_categorical_accuracy: 0.7351\n",
      "Epoch 3/40\n",
      "94/95 [============================>.] - ETA: 0s - loss: 0.5882 - categorical_accuracy: 0.7025\n",
      "Epoch 00003: val_loss did not improve from 0.12200\n",
      "95/95 [==============================] - 6s 62ms/step - loss: 0.5881 - categorical_accuracy: 0.7017 - val_loss: 0.5168 - val_categorical_accuracy: 0.7527\n",
      "Epoch 4/40\n",
      "94/95 [============================>.] - ETA: 0s - loss: 0.5636 - categorical_accuracy: 0.7229\n",
      "Epoch 00004: val_loss did not improve from 0.12200\n",
      "95/95 [==============================] - 6s 62ms/step - loss: 0.5647 - categorical_accuracy: 0.7221 - val_loss: 0.4985 - val_categorical_accuracy: 0.7473\n",
      "Epoch 5/40\n",
      "94/95 [============================>.] - ETA: 0s - loss: 0.5435 - categorical_accuracy: 0.7345\n",
      "Epoch 00005: val_loss did not improve from 0.12200\n",
      "95/95 [==============================] - 6s 62ms/step - loss: 0.5429 - categorical_accuracy: 0.7350 - val_loss: 0.4484 - val_categorical_accuracy: 0.8071\n",
      "Epoch 6/40\n",
      "94/95 [============================>.] - ETA: 0s - loss: 0.5083 - categorical_accuracy: 0.7632\n",
      "Epoch 00006: val_loss did not improve from 0.12200\n",
      "95/95 [==============================] - 6s 62ms/step - loss: 0.5093 - categorical_accuracy: 0.7633 - val_loss: 0.4725 - val_categorical_accuracy: 0.8084\n",
      "Epoch 7/40\n",
      "94/95 [============================>.] - ETA: 0s - loss: 0.4716 - categorical_accuracy: 0.7911\n",
      "Epoch 00007: val_loss did not improve from 0.12200\n",
      "95/95 [==============================] - 6s 62ms/step - loss: 0.4718 - categorical_accuracy: 0.7917 - val_loss: 0.4863 - val_categorical_accuracy: 0.7935\n",
      "Epoch 8/40\n",
      "94/95 [============================>.] - ETA: 0s - loss: 0.4347 - categorical_accuracy: 0.8005\n",
      "Epoch 00008: val_loss did not improve from 0.12200\n",
      "95/95 [==============================] - 6s 62ms/step - loss: 0.4350 - categorical_accuracy: 0.8006 - val_loss: 0.3217 - val_categorical_accuracy: 0.8927\n",
      "Epoch 9/40\n",
      "94/95 [============================>.] - ETA: 0s - loss: 0.3579 - categorical_accuracy: 0.8514\n",
      "Epoch 00009: val_loss did not improve from 0.12200\n",
      "95/95 [==============================] - 6s 62ms/step - loss: 0.3574 - categorical_accuracy: 0.8520 - val_loss: 0.3045 - val_categorical_accuracy: 0.8818\n",
      "Epoch 10/40\n",
      "94/95 [============================>.] - ETA: 0s - loss: 0.3410 - categorical_accuracy: 0.8574\n",
      "Epoch 00010: val_loss did not improve from 0.12200\n",
      "95/95 [==============================] - 6s 62ms/step - loss: 0.3407 - categorical_accuracy: 0.8573 - val_loss: 0.2305 - val_categorical_accuracy: 0.9090\n",
      "Epoch 11/40\n",
      "94/95 [============================>.] - ETA: 0s - loss: 0.2883 - categorical_accuracy: 0.8804\n",
      "Epoch 00011: val_loss did not improve from 0.12200\n",
      "95/95 [==============================] - 6s 62ms/step - loss: 0.2932 - categorical_accuracy: 0.8774 - val_loss: 0.3508 - val_categorical_accuracy: 0.8370\n",
      "Epoch 12/40\n",
      "94/95 [============================>.] - ETA: 0s - loss: 0.3107 - categorical_accuracy: 0.8748\n",
      "Epoch 00012: val_loss did not improve from 0.12200\n",
      "95/95 [==============================] - 6s 62ms/step - loss: 0.3132 - categorical_accuracy: 0.8738 - val_loss: 0.1995 - val_categorical_accuracy: 0.9212\n",
      "Epoch 13/40\n",
      "94/95 [============================>.] - ETA: 0s - loss: 0.2570 - categorical_accuracy: 0.8924\n",
      "Epoch 00013: val_loss did not improve from 0.12200\n",
      "95/95 [==============================] - 6s 62ms/step - loss: 0.2579 - categorical_accuracy: 0.8922 - val_loss: 0.2643 - val_categorical_accuracy: 0.9049\n",
      "Epoch 14/40\n",
      "94/95 [============================>.] - ETA: 0s - loss: 0.2438 - categorical_accuracy: 0.9044\n",
      "Epoch 00014: val_loss did not improve from 0.12200\n",
      "95/95 [==============================] - 6s 62ms/step - loss: 0.2439 - categorical_accuracy: 0.9041 - val_loss: 0.1642 - val_categorical_accuracy: 0.9402\n",
      "Epoch 15/40\n",
      "94/95 [============================>.] - ETA: 0s - loss: 0.2170 - categorical_accuracy: 0.9111\n",
      "Epoch 00015: val_loss did not improve from 0.12200\n",
      "95/95 [==============================] - 6s 62ms/step - loss: 0.2166 - categorical_accuracy: 0.9113 - val_loss: 0.1729 - val_categorical_accuracy: 0.9375\n",
      "Epoch 16/40\n",
      "94/95 [============================>.] - ETA: 0s - loss: 0.2194 - categorical_accuracy: 0.9107\n",
      "Epoch 00016: val_loss did not improve from 0.12200\n",
      "95/95 [==============================] - 6s 62ms/step - loss: 0.2192 - categorical_accuracy: 0.9103 - val_loss: 0.1723 - val_categorical_accuracy: 0.9416\n",
      "Epoch 17/40\n",
      "94/95 [============================>.] - ETA: 0s - loss: 0.1963 - categorical_accuracy: 0.9214\n",
      "Epoch 00017: val_loss did not improve from 0.12200\n",
      "95/95 [==============================] - 6s 62ms/step - loss: 0.1953 - categorical_accuracy: 0.9222 - val_loss: 0.1532 - val_categorical_accuracy: 0.9484\n",
      "Epoch 18/40\n",
      "94/95 [============================>.] - ETA: 0s - loss: 0.2005 - categorical_accuracy: 0.9184\n",
      "Epoch 00018: val_loss did not improve from 0.12200\n",
      "95/95 [==============================] - 6s 62ms/step - loss: 0.1998 - categorical_accuracy: 0.9186 - val_loss: 0.1822 - val_categorical_accuracy: 0.9361\n",
      "Epoch 19/40\n",
      "94/95 [============================>.] - ETA: 0s - loss: 0.2019 - categorical_accuracy: 0.9181\n",
      "Epoch 00019: val_loss did not improve from 0.12200\n",
      "95/95 [==============================] - 6s 62ms/step - loss: 0.2010 - categorical_accuracy: 0.9186 - val_loss: 0.1419 - val_categorical_accuracy: 0.9457\n",
      "Epoch 20/40\n",
      "94/95 [============================>.] - ETA: 0s - loss: 0.1804 - categorical_accuracy: 0.9302\n",
      "Epoch 00020: val_loss did not improve from 0.12200\n",
      "95/95 [==============================] - 6s 62ms/step - loss: 0.1801 - categorical_accuracy: 0.9299 - val_loss: 0.1490 - val_categorical_accuracy: 0.9497\n",
      "Epoch 21/40\n",
      "94/95 [============================>.] - ETA: 0s - loss: 0.1764 - categorical_accuracy: 0.9334\n",
      "Epoch 00021: val_loss did not improve from 0.12200\n",
      "95/95 [==============================] - 6s 62ms/step - loss: 0.1770 - categorical_accuracy: 0.9334 - val_loss: 0.1477 - val_categorical_accuracy: 0.9470\n",
      "Epoch 22/40\n",
      "94/95 [============================>.] - ETA: 0s - loss: 0.1735 - categorical_accuracy: 0.9290\n",
      "Epoch 00022: val_loss did not improve from 0.12200\n",
      "95/95 [==============================] - 6s 62ms/step - loss: 0.1738 - categorical_accuracy: 0.9288 - val_loss: 0.1392 - val_categorical_accuracy: 0.9497\n",
      "Epoch 23/40\n",
      "94/95 [============================>.] - ETA: 0s - loss: 0.1630 - categorical_accuracy: 0.9364\n",
      "Epoch 00023: val_loss did not improve from 0.12200\n",
      "95/95 [==============================] - 6s 62ms/step - loss: 0.1631 - categorical_accuracy: 0.9364 - val_loss: 0.1745 - val_categorical_accuracy: 0.9416\n",
      "Epoch 24/40\n",
      "94/95 [============================>.] - ETA: 0s - loss: 0.1549 - categorical_accuracy: 0.9404\n",
      "Epoch 00024: val_loss did not improve from 0.12200\n",
      "95/95 [==============================] - 6s 62ms/step - loss: 0.1570 - categorical_accuracy: 0.9394 - val_loss: 0.1676 - val_categorical_accuracy: 0.9402\n",
      "Epoch 25/40\n",
      "94/95 [============================>.] - ETA: 0s - loss: 0.1474 - categorical_accuracy: 0.9367\n",
      "Epoch 00025: val_loss did not improve from 0.12200\n",
      "95/95 [==============================] - 6s 62ms/step - loss: 0.1477 - categorical_accuracy: 0.9367 - val_loss: 0.1660 - val_categorical_accuracy: 0.9457\n",
      "Epoch 26/40\n",
      "94/95 [============================>.] - ETA: 0s - loss: 0.1659 - categorical_accuracy: 0.9337\n",
      "Epoch 00026: val_loss did not improve from 0.12200\n",
      "95/95 [==============================] - 6s 62ms/step - loss: 0.1658 - categorical_accuracy: 0.9338 - val_loss: 0.1481 - val_categorical_accuracy: 0.9470\n"
     ]
    },
    {
     "name": "stdout",
     "output_type": "stream",
     "text": [
      "Epoch 27/40\n",
      "94/95 [============================>.] - ETA: 0s - loss: 0.1658 - categorical_accuracy: 0.9374\n",
      "Epoch 00027: val_loss improved from 0.12200 to 0.11647, saving model to ./face_mask_model.h5\n",
      "95/95 [==============================] - 6s 63ms/step - loss: 0.1667 - categorical_accuracy: 0.9370 - val_loss: 0.1165 - val_categorical_accuracy: 0.9606\n",
      "Epoch 28/40\n",
      "94/95 [============================>.] - ETA: 0s - loss: 0.1474 - categorical_accuracy: 0.9467\n",
      "Epoch 00028: val_loss did not improve from 0.11647\n",
      "95/95 [==============================] - 6s 62ms/step - loss: 0.1485 - categorical_accuracy: 0.9459 - val_loss: 0.1387 - val_categorical_accuracy: 0.9497\n",
      "Epoch 29/40\n",
      "94/95 [============================>.] - ETA: 0s - loss: 0.1471 - categorical_accuracy: 0.9417\n",
      "Epoch 00029: val_loss improved from 0.11647 to 0.11244, saving model to ./face_mask_model.h5\n",
      "95/95 [==============================] - 6s 63ms/step - loss: 0.1464 - categorical_accuracy: 0.9420 - val_loss: 0.1124 - val_categorical_accuracy: 0.9674\n",
      "Epoch 30/40\n",
      "94/95 [============================>.] - ETA: 0s - loss: 0.1471 - categorical_accuracy: 0.9410\n",
      "Epoch 00030: val_loss did not improve from 0.11244\n",
      "95/95 [==============================] - 6s 62ms/step - loss: 0.1474 - categorical_accuracy: 0.9410 - val_loss: 0.1149 - val_categorical_accuracy: 0.9633\n",
      "Epoch 31/40\n",
      "94/95 [============================>.] - ETA: 0s - loss: 0.1478 - categorical_accuracy: 0.9430\n",
      "Epoch 00031: val_loss did not improve from 0.11244\n",
      "95/95 [==============================] - 6s 62ms/step - loss: 0.1492 - categorical_accuracy: 0.9417 - val_loss: 0.1211 - val_categorical_accuracy: 0.9579\n",
      "Epoch 32/40\n",
      "94/95 [============================>.] - ETA: 0s - loss: 0.1279 - categorical_accuracy: 0.9524\n",
      "Epoch 00032: val_loss improved from 0.11244 to 0.09077, saving model to ./face_mask_model.h5\n",
      "95/95 [==============================] - 6s 63ms/step - loss: 0.1276 - categorical_accuracy: 0.9525 - val_loss: 0.0908 - val_categorical_accuracy: 0.9769\n",
      "Epoch 33/40\n",
      "94/95 [============================>.] - ETA: 0s - loss: 0.1344 - categorical_accuracy: 0.9487\n",
      "Epoch 00033: val_loss did not improve from 0.09077\n",
      "95/95 [==============================] - 6s 62ms/step - loss: 0.1342 - categorical_accuracy: 0.9486 - val_loss: 0.0914 - val_categorical_accuracy: 0.9674\n",
      "Epoch 34/40\n",
      "94/95 [============================>.] - ETA: 0s - loss: 0.1398 - categorical_accuracy: 0.9407\n",
      "Epoch 00034: val_loss did not improve from 0.09077\n",
      "95/95 [==============================] - 6s 62ms/step - loss: 0.1395 - categorical_accuracy: 0.9410 - val_loss: 0.1094 - val_categorical_accuracy: 0.9701\n",
      "Epoch 35/40\n",
      "94/95 [============================>.] - ETA: 0s - loss: 0.1392 - categorical_accuracy: 0.9460\n",
      "Epoch 00035: val_loss did not improve from 0.09077\n",
      "95/95 [==============================] - 6s 62ms/step - loss: 0.1395 - categorical_accuracy: 0.9463 - val_loss: 0.1579 - val_categorical_accuracy: 0.9497\n",
      "Epoch 36/40\n",
      "94/95 [============================>.] - ETA: 0s - loss: 0.1354 - categorical_accuracy: 0.9484 ETA: 1s\n",
      "Epoch 00036: val_loss did not improve from 0.09077\n",
      "95/95 [==============================] - 6s 62ms/step - loss: 0.1353 - categorical_accuracy: 0.9483 - val_loss: 0.0955 - val_categorical_accuracy: 0.9728\n",
      "Epoch 37/40\n",
      "94/95 [============================>.] - ETA: 0s - loss: 0.1153 - categorical_accuracy: 0.9524\n",
      "Epoch 00037: val_loss did not improve from 0.09077\n",
      "95/95 [==============================] - 6s 62ms/step - loss: 0.1150 - categorical_accuracy: 0.9525 - val_loss: 0.1404 - val_categorical_accuracy: 0.9497\n",
      "Epoch 00037: early stopping\n"
     ]
    }
   ],
   "source": [
    "result = model.fit(augmentor.flow(train_X, train_y, batch_size=batch_size), epochs=40, validation_data=(test_X, test_y), \n",
    "                   callbacks=[early_stopping, learning_rate, model_ckpt],\n",
    "         steps_per_epoch = len(train_X)//batch_size, validation_steps = len(test_X)//batch_size)"
   ]
  },
  {
   "cell_type": "code",
   "execution_count": 185,
   "metadata": {},
   "outputs": [
    {
     "data": {
      "image/png": "[encoded data removed]",
      "text/plain": [
       "<Figure size 432x288 with 1 Axes>"
      ]
     },
     "metadata": {
      "needs_background": "light"
     },
     "output_type": "display_data"
    }
   ],
   "source": [
    "## Visualize Loss\n",
    "plt.plot(result.history['val_loss'], c = 'red', label = 'Validation')\n",
    "plt.legend()\n",
    "plt.plot(result.history['loss'], c = 'green', label = 'Train')\n",
    "plt.legend()\n",
    "plt.title('Loss')\n",
    "plt.xlabel('Epochs')\n",
    "plt.ylabel('Loss')\n",
    "plt.show()"
   ]
  },
  {
   "cell_type": "code",
   "execution_count": 186,
   "metadata": {},
   "outputs": [
    {
     "data": {
      "image/png": "[encoded data removed]",
      "text/plain": [
       "<Figure size 432x288 with 1 Axes>"
      ]
     },
     "metadata": {
      "needs_background": "light"
     },
     "output_type": "display_data"
    }
   ],
   "source": [
    "## Visualize Accuracy\n",
    "plt.plot(result.history['categorical_accuracy'], c = 'red', label = 'Validation')\n",
    "plt.legend()\n",
    "plt.plot(result.history['val_categorical_accuracy'], c = 'green', label = 'Train')\n",
    "plt.legend()\n",
    "plt.title('Loss')\n",
    "plt.xlabel('Epochs')\n",
    "plt.ylabel('Loss')\n",
    "plt.show()"
   ]
  },
  {
   "cell_type": "code",
   "execution_count": 7,
   "metadata": {},
   "outputs": [
    {
     "name": "stdout",
     "output_type": "stream",
     "text": [
      "WARNING:tensorflow:Error in loading the saved optimizer state. As a result, your model is starting with a freshly initialized optimizer.\n"
     ]
    }
   ],
   "source": [
    "face_model = load_model('./face_mask_model.h5')"
   ]
  },
  {
   "cell_type": "code",
   "execution_count": 22,
   "metadata": {},
   "outputs": [],
   "source": [
    "prediction = face_model.predict(test_X)"
   ]
  },
  {
   "cell_type": "code",
   "execution_count": 23,
   "metadata": {},
   "outputs": [],
   "source": [
    "pred = np.argmax(prediction, axis = 1)"
   ]
  },
  {
   "cell_type": "code",
   "execution_count": 37,
   "metadata": {},
   "outputs": [
    {
     "data": {
      "text/plain": [
       "array(['with_mask', 'without_mask'], dtype='<U12')"
      ]
     },
     "execution_count": 37,
     "metadata": {},
     "output_type": "execute_result"
    }
   ],
   "source": [
    "lb.classes_"
   ]
  },
  {
   "cell_type": "code",
   "execution_count": 35,
   "metadata": {},
   "outputs": [
    {
     "name": "stdout",
     "output_type": "stream",
     "text": [
      "              precision    recall  f1-score   support\n",
      "\n",
      "   with_mask       0.96      0.99      0.98       383\n",
      "without_mask       0.99      0.96      0.97       384\n",
      "\n",
      "    accuracy                           0.98       767\n",
      "   macro avg       0.98      0.98      0.98       767\n",
      "weighted avg       0.98      0.98      0.98       767\n",
      "\n"
     ]
    }
   ],
   "source": [
    "print(classification_report(np.argmax(test_y, axis=1), np.argmax(prediction, axis=1), target_names=lb.classes_))"
   ]
  },
  {
   "cell_type": "code",
   "execution_count": 36,
   "metadata": {},
   "outputs": [
    {
     "data": {
      "text/plain": [
       "[0.04845134647759807, 0.971875]"
      ]
     },
     "execution_count": 36,
     "metadata": {},
     "output_type": "execute_result"
    }
   ],
   "source": [
    "# Loss and categorical accuracy on test data\n",
    "face_model.evaluate(test_X, test_y, batch_size=batch_size, steps = 10, verbose =0)"
   ]
  }
 ],
 "metadata": {
  "kernelspec": {
   "display_name": "Python 3",
   "language": "python",
   "name": "python3"
  },
  "language_info": {
   "codemirror_mode": {
    "name": "ipython",
    "version": 3
   },
   "file_extension": ".py",
   "mimetype": "text/x-python",
   "name": "python",
   "nbconvert_exporter": "python",
   "pygments_lexer": "ipython3",
   "version": "3.7.0"
  }
 },
 "nbformat": 4,
 "nbformat_minor": 4
}
